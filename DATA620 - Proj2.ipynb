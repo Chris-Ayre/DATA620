{
 "cells": [
  {
   "cell_type": "markdown",
   "metadata": {},
   "source": [
    "### Christopher Ayre\n",
    "### Data - 620\n",
    "\n",
    "### Project 2"
   ]
  },
  {
   "cell_type": "markdown",
   "metadata": {},
   "source": [
    "__ASSIGNMENT__\n",
    "\n",
    "* Identify a large 2-node network dataset—you can start with a dataset in a repository.  Your data should meet the criteria that it consists of ties between and not within two (or more) distinct groups.\n",
    "\n",
    "* Reduce the size of the network using a method such as the island method described in chapter 4 of social network analysis.\n",
    "\n",
    "* What can you infer about each of the distinct groups?\n"
   ]
  },
  {
   "cell_type": "markdown",
   "metadata": {},
   "source": [
    "__THE DATA - THE ACCUSED WITCHES__\n",
    "\n",
    "Few events in American history are better known than the Salem witchcraft trials of 1692. The Accused Witches Data Set contains information about those who were formally accused of witchcraft during the Trials. The full dataset can be found on Kaggle: https://www.kaggle.com/rtatman/salem-witchcraft-dataset\n",
    "\n",
    "The __\"Accused Witch\"__ column records the names of the 152 people mentioned in legal records as having been formally accused of witchcraft. \n",
    "\n",
    "__\"Residence\"__ identifies the community in which the accused person was living when accused of witchcraft. In a few cases, the residence of an accused witch is problematic. For Elizabeth How, for example, some records cite Ipswich while others name Topsfield as her home. In such cases, the most likely residence has been used. In a few instances, the residence entry does not reflect the actual geographic relationship of the accused with the trials. George Burroughs was living in Wells, Maine, in 1692, but he had been a controversial minister in Salem Village in the early 1680s.\n",
    "\n",
    "__\"Month of Accusation\"__ numerically expresses the month of the year in which an alleged witch was accused: \"1\"=January 1692; \"6\"=June 1692; and \"13\"=January 1693. "
   ]
  },
  {
   "cell_type": "code",
   "execution_count": 2,
   "metadata": {},
   "outputs": [],
   "source": [
    "#LIBRARY IMPORTS\n",
    "\n",
    "import pandas as pd\n",
    "import networkx as nx\n",
    "import math\n",
    "import matplotlib.pyplot as plt\n",
    "import networkx.algorithms.bipartite as bipartite"
   ]
  },
  {
   "cell_type": "code",
   "execution_count": 3,
   "metadata": {},
   "outputs": [
    {
     "data": {
      "text/html": [
       "<div>\n",
       "<style scoped>\n",
       "    .dataframe tbody tr th:only-of-type {\n",
       "        vertical-align: middle;\n",
       "    }\n",
       "\n",
       "    .dataframe tbody tr th {\n",
       "        vertical-align: top;\n",
       "    }\n",
       "\n",
       "    .dataframe thead th {\n",
       "        text-align: right;\n",
       "    }\n",
       "</style>\n",
       "<table border=\"1\" class=\"dataframe\">\n",
       "  <thead>\n",
       "    <tr style=\"text-align: right;\">\n",
       "      <th></th>\n",
       "      <th>Accused Witch</th>\n",
       "      <th>Residence</th>\n",
       "      <th>Month of Accusation</th>\n",
       "    </tr>\n",
       "  </thead>\n",
       "  <tbody>\n",
       "    <tr>\n",
       "      <th>0</th>\n",
       "      <td>Abbott, Arthur</td>\n",
       "      <td>Ipswich</td>\n",
       "      <td>5</td>\n",
       "    </tr>\n",
       "    <tr>\n",
       "      <th>1</th>\n",
       "      <td>Abbott, Nehemiah, Jr.</td>\n",
       "      <td>Topsfield</td>\n",
       "      <td>4</td>\n",
       "    </tr>\n",
       "    <tr>\n",
       "      <th>2</th>\n",
       "      <td>Alden, John</td>\n",
       "      <td>Boston</td>\n",
       "      <td>5</td>\n",
       "    </tr>\n",
       "    <tr>\n",
       "      <th>3</th>\n",
       "      <td>Andrew, Daniel</td>\n",
       "      <td>Salem Village</td>\n",
       "      <td>5</td>\n",
       "    </tr>\n",
       "    <tr>\n",
       "      <th>4</th>\n",
       "      <td>Barker, Abigail</td>\n",
       "      <td>Andover</td>\n",
       "      <td>9</td>\n",
       "    </tr>\n",
       "  </tbody>\n",
       "</table>\n",
       "</div>"
      ],
      "text/plain": [
       "           Accused Witch       Residence   Month of Accusation\n",
       "0         Abbott, Arthur         Ipswich                     5\n",
       "1  Abbott, Nehemiah, Jr.       Topsfield                     4\n",
       "2            Alden, John          Boston                     5\n",
       "3         Andrew, Daniel   Salem Village                     5\n",
       "4        Barker, Abigail         Andover                     9"
      ]
     },
     "execution_count": 3,
     "metadata": {},
     "output_type": "execute_result"
    }
   ],
   "source": [
    "# DATA IMPORT\n",
    "df = pd.read_csv(\"Accused-Witches.csv\")\n",
    "df.head()"
   ]
  },
  {
   "cell_type": "markdown",
   "metadata": {},
   "source": [
    "__Creating the Bipartite Graph for later analysis and inspecting the info__ "
   ]
  },
  {
   "cell_type": "code",
   "execution_count": 5,
   "metadata": {},
   "outputs": [
    {
     "name": "stdout",
     "output_type": "stream",
     "text": [
      "Name: \n",
      "Type: Graph\n",
      "Number of nodes: 175\n",
      "Number of edges: 152\n",
      "Average degree:   1.7371\n"
     ]
    }
   ],
   "source": [
    "G = nx.from_pandas_edgelist(df=df, source='Accused Witch', target=' Residence ', edge_attr=['Month of Accusation'])\n",
    "\n",
    "members = df.iloc[:, 0].unique().tolist()\n",
    "groups = df.iloc[:,1].unique().tolist()\n",
    "\n",
    "G.add_nodes_from(members, bipartite=0)\n",
    "G.add_nodes_from(groups, bipartite=1)\n",
    "\n",
    "print(nx.info(G))"
   ]
  },
  {
   "cell_type": "code",
   "execution_count": 39,
   "metadata": {},
   "outputs": [
    {
     "data": {
      "image/png": "[encoded data removed]",
      "text/plain": [
       "<Figure size 576x576 with 1 Axes>"
      ]
     },
     "metadata": {},
     "output_type": "display_data"
    }
   ],
   "source": [
    "plt.figure(3,figsize=(8,8)) \n",
    "nx.draw(G, node_size=10, node_color='purple')"
   ]
  },
  {
   "cell_type": "markdown",
   "metadata": {},
   "source": [
    "Graph depicts the different towns and their Residents. The largest hub depicts Salem Town, most famous for the witch trials."
   ]
  },
  {
   "cell_type": "code",
   "execution_count": 36,
   "metadata": {},
   "outputs": [
    {
     "name": "stdout",
     "output_type": "stream",
     "text": [
      "Name: \n",
      "Type: Graph\n",
      "Number of nodes: 24\n",
      "Number of edges: 1\n",
      "Average degree:   0.0833\n"
     ]
    },
    {
     "data": {
      "image/png": "[encoded data removed]",
      "text/plain": [
       "<Figure size 360x360 with 1 Axes>"
      ]
     },
     "metadata": {},
     "output_type": "display_data"
    }
   ],
   "source": [
    "mem, grp = bipartite.sets(G, set(members))\n",
    "group_association = bipartite.weighted_projected_graph(G, grp)\n",
    "print(nx.info(group_association))\n",
    "\n",
    "plt.figure(3,figsize=(5,5)) \n",
    "nx.draw(group_association, node_size=50, node_color='purple')"
   ]
  },
  {
   "cell_type": "markdown",
   "metadata": {},
   "source": [
    "The Bipartite graph of the group network displays a lack of togetherness. The Accused witches were mainly from different towns, we see 24 nodes each representing a different town. The one connection may be due to two witches with the same name."
   ]
  },
  {
   "cell_type": "code",
   "execution_count": 14,
   "metadata": {},
   "outputs": [],
   "source": [
    "# Creating new columns for comparison network analysis\n",
    "\n",
    "degree = pd.DataFrame.from_dict(dict(nx.degree(group_association)), orient='index', columns=['Degree'])\n",
    "degree_centrality = pd.DataFrame.from_dict(nx.degree_centrality(group_association), orient='index', columns=['Degree_Centrality'])\n",
    "eigenvector_centrality = pd.DataFrame.from_dict(nx.eigenvector_centrality(group_association), orient='index', columns=['Eigenvector_Centrality'])\n",
    "closeness_centrality = pd.DataFrame.from_dict(nx.closeness_centrality(group_association), orient='index', columns=['Closeness Centrality'])\n",
    "betweenness_centrality = pd.DataFrame.from_dict(nx.betweenness_centrality(group_association), orient='index', columns=['Betweenness Centrality'])\n",
    "\n",
    "dfs = [degree,degree_centrality,eigenvector_centrality,closeness_centrality,betweenness_centrality]"
   ]
  },
  {
   "cell_type": "code",
   "execution_count": 16,
   "metadata": {},
   "outputs": [],
   "source": [
    "metrics = pd.concat([degree, degree_centrality], axis=1, join_axes=[degree.index])\n",
    "metrics = pd.concat([metrics, eigenvector_centrality], axis=1, join_axes=[metrics.index])\n",
    "metrics = pd.concat([metrics, closeness_centrality], axis=1, join_axes=[metrics.index])\n",
    "metrics = pd.concat([metrics, betweenness_centrality], axis=1, join_axes=[metrics.index])"
   ]
  },
  {
   "cell_type": "code",
   "execution_count": 17,
   "metadata": {},
   "outputs": [
    {
     "data": {
      "text/html": [
       "<div>\n",
       "<style scoped>\n",
       "    .dataframe tbody tr th:only-of-type {\n",
       "        vertical-align: middle;\n",
       "    }\n",
       "\n",
       "    .dataframe tbody tr th {\n",
       "        vertical-align: top;\n",
       "    }\n",
       "\n",
       "    .dataframe thead th {\n",
       "        text-align: right;\n",
       "    }\n",
       "</style>\n",
       "<table border=\"1\" class=\"dataframe\">\n",
       "  <thead>\n",
       "    <tr style=\"text-align: right;\">\n",
       "      <th></th>\n",
       "      <th>Degree</th>\n",
       "      <th>Degree_Centrality</th>\n",
       "      <th>Eigenvector_Centrality</th>\n",
       "      <th>Closeness Centrality</th>\n",
       "      <th>Betweenness Centrality</th>\n",
       "    </tr>\n",
       "  </thead>\n",
       "  <tbody>\n",
       "    <tr>\n",
       "      <th>Salem Town</th>\n",
       "      <td>1</td>\n",
       "      <td>0.043478</td>\n",
       "      <td>7.071068e-01</td>\n",
       "      <td>0.043478</td>\n",
       "      <td>0.0</td>\n",
       "    </tr>\n",
       "    <tr>\n",
       "      <th>Lynn</th>\n",
       "      <td>1</td>\n",
       "      <td>0.043478</td>\n",
       "      <td>7.071068e-01</td>\n",
       "      <td>0.043478</td>\n",
       "      <td>0.0</td>\n",
       "    </tr>\n",
       "    <tr>\n",
       "      <th>Salisbury</th>\n",
       "      <td>0</td>\n",
       "      <td>0.000000</td>\n",
       "      <td>6.743496e-07</td>\n",
       "      <td>0.000000</td>\n",
       "      <td>0.0</td>\n",
       "    </tr>\n",
       "    <tr>\n",
       "      <th>Malden</th>\n",
       "      <td>0</td>\n",
       "      <td>0.000000</td>\n",
       "      <td>6.743496e-07</td>\n",
       "      <td>0.000000</td>\n",
       "      <td>0.0</td>\n",
       "    </tr>\n",
       "    <tr>\n",
       "      <th>Ipswich</th>\n",
       "      <td>0</td>\n",
       "      <td>0.000000</td>\n",
       "      <td>6.743496e-07</td>\n",
       "      <td>0.000000</td>\n",
       "      <td>0.0</td>\n",
       "    </tr>\n",
       "    <tr>\n",
       "      <th>Boston</th>\n",
       "      <td>0</td>\n",
       "      <td>0.000000</td>\n",
       "      <td>6.743496e-07</td>\n",
       "      <td>0.000000</td>\n",
       "      <td>0.0</td>\n",
       "    </tr>\n",
       "    <tr>\n",
       "      <th>Rowley</th>\n",
       "      <td>0</td>\n",
       "      <td>0.000000</td>\n",
       "      <td>6.743496e-07</td>\n",
       "      <td>0.000000</td>\n",
       "      <td>0.0</td>\n",
       "    </tr>\n",
       "    <tr>\n",
       "      <th>Beverly</th>\n",
       "      <td>0</td>\n",
       "      <td>0.000000</td>\n",
       "      <td>6.743496e-07</td>\n",
       "      <td>0.000000</td>\n",
       "      <td>0.0</td>\n",
       "    </tr>\n",
       "    <tr>\n",
       "      <th>Chelmsford</th>\n",
       "      <td>0</td>\n",
       "      <td>0.000000</td>\n",
       "      <td>6.743496e-07</td>\n",
       "      <td>0.000000</td>\n",
       "      <td>0.0</td>\n",
       "    </tr>\n",
       "    <tr>\n",
       "      <th>Woburn</th>\n",
       "      <td>0</td>\n",
       "      <td>0.000000</td>\n",
       "      <td>6.743496e-07</td>\n",
       "      <td>0.000000</td>\n",
       "      <td>0.0</td>\n",
       "    </tr>\n",
       "  </tbody>\n",
       "</table>\n",
       "</div>"
      ],
      "text/plain": [
       "              Degree  Degree_Centrality  Eigenvector_Centrality  \\\n",
       " Salem Town        1           0.043478            7.071068e-01   \n",
       " Lynn              1           0.043478            7.071068e-01   \n",
       " Salisbury         0           0.000000            6.743496e-07   \n",
       " Malden            0           0.000000            6.743496e-07   \n",
       " Ipswich           0           0.000000            6.743496e-07   \n",
       " Boston            0           0.000000            6.743496e-07   \n",
       " Rowley            0           0.000000            6.743496e-07   \n",
       " Beverly           0           0.000000            6.743496e-07   \n",
       " Chelmsford        0           0.000000            6.743496e-07   \n",
       " Woburn            0           0.000000            6.743496e-07   \n",
       "\n",
       "              Closeness Centrality  Betweenness Centrality  \n",
       " Salem Town               0.043478                     0.0  \n",
       " Lynn                     0.043478                     0.0  \n",
       " Salisbury                0.000000                     0.0  \n",
       " Malden                   0.000000                     0.0  \n",
       " Ipswich                  0.000000                     0.0  \n",
       " Boston                   0.000000                     0.0  \n",
       " Rowley                   0.000000                     0.0  \n",
       " Beverly                  0.000000                     0.0  \n",
       " Chelmsford               0.000000                     0.0  \n",
       " Woburn                   0.000000                     0.0  "
      ]
     },
     "execution_count": 17,
     "metadata": {},
     "output_type": "execute_result"
    }
   ],
   "source": [
    "metrics.sort_values(by=['Degree_Centrality', 'Eigenvector_Centrality'], ascending=False).head(10)"
   ]
  },
  {
   "cell_type": "code",
   "execution_count": 44,
   "metadata": {},
   "outputs": [
    {
     "data": {
      "image/png": "[encoded data removed]",
      "text/plain": [
       "<Figure size 216x216 with 1 Axes>"
      ]
     },
     "metadata": {},
     "output_type": "display_data"
    }
   ],
   "source": [
    "\n",
    "plt.figure(3,figsize=(3,3)) \n",
    "salem_ego = nx.ego_graph(group_association, ' Salem Town ')\n",
    "\n",
    "# Draw graph\n",
    "pos = nx.spring_layout(ego)\n",
    "nx.draw(salem_ego, pos, node_color='b', node_size=20, with_labels=True)\n",
    "\n",
    "nx.draw_networkx_nodes(salem_ego, pos, nodelist=[' Salem Town '], node_size=100, node_color='r')\n",
    "plt.show()\n",
    "\n"
   ]
  },
  {
   "cell_type": "markdown",
   "metadata": {},
   "source": [
    "__The Ego Network__ is a subnetwork that is based on a single node - Salem Town\n",
    "Due to the lack of togetherness, Salem Town is the only one town worth looking at the Ego Network which reflects a connection with the town of Lynn."
   ]
  },
  {
   "cell_type": "code",
   "execution_count": null,
   "metadata": {},
   "outputs": [],
   "source": []
  }
 ],
 "metadata": {
  "kernelspec": {
   "display_name": "Python 3",
   "language": "python",
   "name": "python3"
  },
  "language_info": {
   "codemirror_mode": {
    "name": "ipython",
    "version": 3
   },
   "file_extension": ".py",
   "mimetype": "text/x-python",
   "name": "python",
   "nbconvert_exporter": "python",
   "pygments_lexer": "ipython3",
   "version": "3.7.3"
  }
 },
 "nbformat": 4,
 "nbformat_minor": 2
}
