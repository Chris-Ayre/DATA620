{
 "cells": [
  {
   "cell_type": "markdown",
   "metadata": {},
   "source": [
    "WEEK 4 - ASSIGNMENT CENTRALITY MEASURES"
   ]
  },
  {
   "cell_type": "markdown",
   "metadata": {},
   "source": [
    "The relationships between President Donald Trump and other people lend themselves well to basic social network analysis because, as John Templon, Anthony Cormier, Alex Campbell, and Singer-Vine suggest, \"No American president has taken office with a giant network of businesses, investments, and corporate connections like that amassed by Donald J. Trump.\""
   ]
  },
  {
   "cell_type": "markdown",
   "metadata": {},
   "source": [
    "By comparing and contrasting degree centrality across nodes I hope to identify groups that may be able to influence the president.\n",
    "\n",
    "I will load node and edge csv files into Gephi in order to visualize the data and make degree centrality computations. Each node will represent a person and posseses a categorical variable describing their relationship to the president (such as friend, business partner, donor, family, cabinet member)"
   ]
  },
  {
   "cell_type": "markdown",
   "metadata": {},
   "source": [
    "The Dataset\n",
    "\n",
    "The dataset contains network data for relationships between President Donald Trump and his top associates.\n",
    "In order to make this data more accessible for basic social network analysis, I have condensed the network to only the top 300 most connected people in 'TrumpWorld'.\n",
    "\n",
    "The dataset was compiled by John Templon, Anthony Cormier, Alex Campbell, and Jeremy Singer-Vine as part of a larger project of [mapping \"TrumpWorld\" for BuzzFeed News](https://www.buzzfeed.com/johntemplon/help-us-map-trumpworld?utm_term=.wloL0RAvM#.ru1M6Y21D). The full dataset, which you can access as [a Google Sheet](https://docs.google.com/spreadsheets/d/1Z5Vo5pbvxKJ5XpfALZXvCzW26Cl4we3OaN73K9Ae5Ss/edit#gid=1996904412) or [on GitHub](https://github.com/BuzzFeedNews/trumpworld) also includes information about organizations and agencies. The data was compiled by culling from \"public records, news reports, and other sources on the Trump family, his Cabinet picks, and top advisers,\" as well as via crowdsourced tips and information from the public"
   ]
  }
 ],
 "metadata": {
  "kernelspec": {
   "display_name": "Python 3",
   "language": "python",
   "name": "python3"
  },
  "language_info": {
   "codemirror_mode": {
    "name": "ipython",
    "version": 3
   },
   "file_extension": ".py",
   "mimetype": "text/x-python",
   "name": "python",
   "nbconvert_exporter": "python",
   "pygments_lexer": "ipython3",
   "version": "3.7.3"
  }
 },
 "nbformat": 4,
 "nbformat_minor": 2
}
