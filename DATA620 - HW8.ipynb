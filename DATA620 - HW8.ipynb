{
 "cells": [
  {
   "cell_type": "markdown",
   "metadata": {},
   "source": [
    "### Christopher Ayre\n",
    "### DATA 620\n",
    "\n",
    "#### WEEK 8 - HIGH FREQUENCY WORDS"
   ]
  },
  {
   "cell_type": "markdown",
   "metadata": {},
   "source": [
    "__ASSIGNMENT__\n",
    "\n",
    "1.Choose a corpus of interest.\n",
    "\n",
    "2.How many total unique words are in the corpus? (Please feel free to define unique words in any interesting, defensible way).\n",
    "\n",
    "3.Taking the most common words, how many unique words represent half of the total words in the corpus?\n",
    "\n",
    "4.Identify the 200 highest frequency words in this corpus.\n",
    "\n",
    "5.Create a graph that shows the relative frequency of these 200 words.\n",
    "\n",
    "6.Does the observed relative frequency of these words follow Zipf’s law? Explain.\n",
    "\n",
    "7.In what ways do you think the frequency of the words in this corpus differ from “all words in all corpora.”"
   ]
  },
  {
   "cell_type": "code",
   "execution_count": 26,
   "metadata": {},
   "outputs": [],
   "source": [
    "# LIBRARIES USED\n",
    "\n",
    "# nltk.download\n",
    "# nltk.download('inaugural')\n",
    "# nltk.download('stopwords')\n",
    "\n",
    "import nltk\n",
    "from nltk.corpus import inaugural\n",
    "from nltk.corpus import stopwords\n",
    "\n",
    "import matplotlib.pyplot as plt\n",
    "import pandas as pd\n"
   ]
  },
  {
   "cell_type": "markdown",
   "metadata": {
    "scrolled": true
   },
   "source": [
    "### The corpora of interest I choose was Inaugural from nltk.corpus which houses the transcripts from all United States Presidential Inauguaration speeches. I chose this corpora due to its relevance since we are currently in the middle of a presidential election. \n"
   ]
  },
  {
   "cell_type": "code",
   "execution_count": 3,
   "metadata": {},
   "outputs": [
    {
     "name": "stdout",
     "output_type": "stream",
     "text": [
      "58\n"
     ]
    },
    {
     "data": {
      "text/plain": [
       "('1789-Washington.txt', '2017-Trump.txt')"
      ]
     },
     "execution_count": 3,
     "metadata": {},
     "output_type": "execute_result"
    }
   ],
   "source": [
    "names = inaugural.fileids()\n",
    "print(len(names))\n",
    "\n",
    "names[0],names[57]"
   ]
  },
  {
   "cell_type": "markdown",
   "metadata": {},
   "source": [
    "### How many total unique words are in the corpus?\n",
    "# 839\n",
    "_(Please feel free to define unique words in any interesting, defensible way)._\n",
    "\n",
    "__I hereby define Unique words as words not in the stopword list and are not punctuations or any other form of non word__"
   ]
  },
  {
   "cell_type": "code",
   "execution_count": 16,
   "metadata": {},
   "outputs": [
    {
     "name": "stdout",
     "output_type": "stream",
     "text": [
      "2726\n",
      "839\n"
     ]
    }
   ],
   "source": [
    "# I will focus on my Favorite inauguaration speech and see the number of words\n",
    "obama1=list(inaugural.words(fileids=names[55]))\n",
    "print(len(obama1))\n",
    "\n",
    "# Create Stopwords and update to include punctuation\n",
    "stop_words= stopwords.words('english')\n",
    "add_to_stop_words = [',', '.', '-', ';' , '--', ':', \"'\", '(' , ')']\n",
    "stop_words.extend(add_to_stop_words)\n",
    "stop_words=set(stop_words)\n",
    "\n",
    "# Execute Removal of stopwords from the speech\n",
    "for i in stop_words:\n",
    "    if i in obama1:\n",
    "        while i in obama1:\n",
    "            obama1.remove(i)\n",
    "\n",
    "# See the List of unique words\n",
    "unique_words_obama1 = list(set(obama1)) \n",
    "print(len(unique_words_obama1))"
   ]
  },
  {
   "cell_type": "markdown",
   "metadata": {},
   "source": [
    "### Unique words represent roughly a third of the total words in the corpus"
   ]
  },
  {
   "cell_type": "markdown",
   "metadata": {},
   "source": [
    "### Identify the 200 highest frequency words in this corpus."
   ]
  },
  {
   "cell_type": "code",
   "execution_count": 24,
   "metadata": {},
   "outputs": [],
   "source": [
    "obama1_freq = nltk.FreqDist(obama1)\n"
   ]
  },
  {
   "cell_type": "code",
   "execution_count": 25,
   "metadata": {},
   "outputs": [
    {
     "name": "stdout",
     "output_type": "stream",
     "text": [
      "us 23\n",
      "nation 12\n",
      "We 12\n",
      "new 11\n",
      "America 10\n",
      "The 9\n",
      "Our 9\n",
      "every 8\n",
      "must 8\n",
      "For 8\n",
      "world 7\n",
      "less 6\n",
      "They 6\n",
      "work 6\n",
      "And 6\n",
      "cannot 6\n",
      "common 6\n",
      "people 6\n",
      "today 5\n",
      "generation 5\n",
      "day 5\n",
      "time 5\n",
      "know 5\n",
      "spirit 5\n",
      "God 5\n",
      "let 5\n",
      "words 4\n",
      "peace 4\n",
      "crisis 4\n",
      "far 4\n",
      "hard 4\n",
      "come 4\n",
      "end 4\n",
      "long 4\n",
      "things 4\n",
      "It 4\n",
      "seek 4\n",
      "men 4\n",
      "women 4\n",
      "greater 4\n",
      "This 4\n",
      "meet 4\n",
      "whether 4\n",
      "power 4\n",
      "To 4\n",
      "I 3\n",
      "Americans 3\n",
      "oath 3\n",
      "prosperity 3\n",
      "carried 3\n",
      "ideals 3\n",
      "So 3\n",
      "economy 3\n",
      "jobs 3\n",
      "care 3\n",
      "many 3\n",
      "across 3\n",
      "say 3\n",
      "But 3\n",
      "hope 3\n",
      "history 3\n",
      "forward 3\n",
      "In 3\n",
      "journey 3\n",
      "freedom 3\n",
      "life 3\n",
      "last 3\n",
      "question 3\n",
      "courage 3\n",
      "What 3\n",
      "government 3\n",
      "small 3\n",
      "force 3\n",
      "man 3\n",
      "generations 3\n",
      "father 3\n",
      "future 3\n",
      "nations 3\n",
      "old 3\n",
      "shall 3\n",
      "moment 3\n",
      "upon 3\n",
      "may 3\n",
      "children 3\n",
      "... 3\n",
      "stand 2\n",
      "task 2\n",
      "trust 2\n",
      "service 2\n",
      "well 2\n",
      "cooperation 2\n",
      "throughout 2\n",
      "taken 2\n",
      "still 2\n",
      "waters 2\n",
      "often 2\n",
      "storms 2\n",
      "At 2\n",
      "true 2\n",
      "understood 2\n",
      "war 2\n",
      "part 2\n",
      "also 2\n",
      "make 2\n",
      "age 2\n",
      "health 2\n",
      "schools 2\n",
      "fail 2\n",
      "use 2\n",
      "planet 2\n",
      "These 2\n",
      "confidence 2\n",
      "fear 2\n",
      "lower 2\n",
      "challenges 2\n",
      "face 2\n",
      "met 2\n",
      "short 2\n",
      "On 2\n",
      "purpose 2\n",
      "conflict 2\n",
      "false 2\n",
      "remain 2\n",
      "enduring 2\n",
      "better 2\n",
      "gift 2\n",
      "passed 2\n",
      "given 2\n",
      "promise 2\n",
      "free 2\n",
      "greatness 2\n",
      "understand 2\n",
      "never 2\n",
      "earned 2\n",
      "one 2\n",
      "path 2\n",
      "traveled 2\n",
      "West 2\n",
      "like 2\n",
      "might 2\n",
      "ambitions 2\n",
      "birth 2\n",
      "wealth 2\n",
      "prosperous 2\n",
      "Earth 2\n",
      "workers 2\n",
      "minds 2\n",
      "year 2\n",
      "begin 2\n",
      "done 2\n",
      "calls 2\n",
      "build 2\n",
      "lines 2\n",
      "feed 2\n",
      "restore 2\n",
      "All 2\n",
      "big 2\n",
      "country 2\n",
      "longer 2\n",
      "find 2\n",
      "afford 2\n",
      "Where 2\n",
      "answer 2\n",
      "light 2\n",
      "market 2\n",
      "good 2\n",
      "without 2\n",
      "success 2\n",
      "extend 2\n",
      "willing 2\n",
      "As 2\n",
      "defense 2\n",
      "faced 2\n",
      "charter 2\n",
      "blood 2\n",
      "friend 2\n",
      "child 2\n",
      "grows 2\n",
      "even 2\n",
      "With 2\n",
      "back 2\n",
      "way 2\n",
      "stronger 2\n",
      "play 2\n",
      "era 2\n",
      "mutual 2\n",
      "remember 2\n",
      "brave 2\n",
      "something 2\n",
      "liberty 2\n",
      "willingness 2\n",
      "meaning 2\n",
      "faith 2\n",
      "American 2\n",
      "take 2\n",
      "rather 2\n",
      "hours 2\n",
      "duties 2\n",
      "knowledge 2\n",
      "nothing 2\n"
     ]
    }
   ],
   "source": [
    "for key,value in obama1_freq.most_common(200):\n",
    "    print(key,value)"
   ]
  },
  {
   "cell_type": "markdown",
   "metadata": {},
   "source": [
    "### Create a graph that shows the relative frequency of these 200 words."
   ]
  },
  {
   "cell_type": "code",
   "execution_count": 33,
   "metadata": {},
   "outputs": [
    {
     "data": {
      "text/html": [
       "<div>\n",
       "<style scoped>\n",
       "    .dataframe tbody tr th:only-of-type {\n",
       "        vertical-align: middle;\n",
       "    }\n",
       "\n",
       "    .dataframe tbody tr th {\n",
       "        vertical-align: top;\n",
       "    }\n",
       "\n",
       "    .dataframe thead th {\n",
       "        text-align: right;\n",
       "    }\n",
       "</style>\n",
       "<table border=\"1\" class=\"dataframe\">\n",
       "  <thead>\n",
       "    <tr style=\"text-align: right;\">\n",
       "      <th></th>\n",
       "      <th>word</th>\n",
       "      <th>frequency</th>\n",
       "    </tr>\n",
       "  </thead>\n",
       "  <tbody>\n",
       "    <tr>\n",
       "      <th>0</th>\n",
       "      <td>us</td>\n",
       "      <td>23</td>\n",
       "    </tr>\n",
       "    <tr>\n",
       "      <th>1</th>\n",
       "      <td>nation</td>\n",
       "      <td>12</td>\n",
       "    </tr>\n",
       "    <tr>\n",
       "      <th>2</th>\n",
       "      <td>We</td>\n",
       "      <td>12</td>\n",
       "    </tr>\n",
       "    <tr>\n",
       "      <th>3</th>\n",
       "      <td>new</td>\n",
       "      <td>11</td>\n",
       "    </tr>\n",
       "    <tr>\n",
       "      <th>4</th>\n",
       "      <td>America</td>\n",
       "      <td>10</td>\n",
       "    </tr>\n",
       "  </tbody>\n",
       "</table>\n",
       "</div>"
      ],
      "text/plain": [
       "      word  frequency\n",
       "0       us         23\n",
       "1   nation         12\n",
       "2       We         12\n",
       "3      new         11\n",
       "4  America         10"
      ]
     },
     "execution_count": 33,
     "metadata": {},
     "output_type": "execute_result"
    }
   ],
   "source": [
    "df = pd.DataFrame(obama1_freq.most_common(200))\n",
    "df.columns = ['word', 'frequency']\n",
    "\n",
    "df.head()"
   ]
  },
  {
   "cell_type": "code",
   "execution_count": 34,
   "metadata": {},
   "outputs": [
    {
     "data": {
      "text/html": [
       "<div>\n",
       "<style scoped>\n",
       "    .dataframe tbody tr th:only-of-type {\n",
       "        vertical-align: middle;\n",
       "    }\n",
       "\n",
       "    .dataframe tbody tr th {\n",
       "        vertical-align: top;\n",
       "    }\n",
       "\n",
       "    .dataframe thead th {\n",
       "        text-align: right;\n",
       "    }\n",
       "</style>\n",
       "<table border=\"1\" class=\"dataframe\">\n",
       "  <thead>\n",
       "    <tr style=\"text-align: right;\">\n",
       "      <th></th>\n",
       "      <th>index</th>\n",
       "      <th>word</th>\n",
       "      <th>frequency</th>\n",
       "      <th>relative_frequency</th>\n",
       "    </tr>\n",
       "  </thead>\n",
       "  <tbody>\n",
       "    <tr>\n",
       "      <th>0</th>\n",
       "      <td>0</td>\n",
       "      <td>us</td>\n",
       "      <td>23</td>\n",
       "      <td>0.0368</td>\n",
       "    </tr>\n",
       "    <tr>\n",
       "      <th>1</th>\n",
       "      <td>1</td>\n",
       "      <td>nation</td>\n",
       "      <td>12</td>\n",
       "      <td>0.0192</td>\n",
       "    </tr>\n",
       "    <tr>\n",
       "      <th>2</th>\n",
       "      <td>2</td>\n",
       "      <td>We</td>\n",
       "      <td>12</td>\n",
       "      <td>0.0192</td>\n",
       "    </tr>\n",
       "    <tr>\n",
       "      <th>3</th>\n",
       "      <td>3</td>\n",
       "      <td>new</td>\n",
       "      <td>11</td>\n",
       "      <td>0.0176</td>\n",
       "    </tr>\n",
       "    <tr>\n",
       "      <th>4</th>\n",
       "      <td>4</td>\n",
       "      <td>America</td>\n",
       "      <td>10</td>\n",
       "      <td>0.0160</td>\n",
       "    </tr>\n",
       "    <tr>\n",
       "      <th>5</th>\n",
       "      <td>5</td>\n",
       "      <td>The</td>\n",
       "      <td>9</td>\n",
       "      <td>0.0144</td>\n",
       "    </tr>\n",
       "    <tr>\n",
       "      <th>6</th>\n",
       "      <td>6</td>\n",
       "      <td>Our</td>\n",
       "      <td>9</td>\n",
       "      <td>0.0144</td>\n",
       "    </tr>\n",
       "    <tr>\n",
       "      <th>7</th>\n",
       "      <td>7</td>\n",
       "      <td>every</td>\n",
       "      <td>8</td>\n",
       "      <td>0.0128</td>\n",
       "    </tr>\n",
       "    <tr>\n",
       "      <th>8</th>\n",
       "      <td>8</td>\n",
       "      <td>must</td>\n",
       "      <td>8</td>\n",
       "      <td>0.0128</td>\n",
       "    </tr>\n",
       "    <tr>\n",
       "      <th>9</th>\n",
       "      <td>9</td>\n",
       "      <td>For</td>\n",
       "      <td>8</td>\n",
       "      <td>0.0128</td>\n",
       "    </tr>\n",
       "  </tbody>\n",
       "</table>\n",
       "</div>"
      ],
      "text/plain": [
       "   index     word  frequency  relative_frequency\n",
       "0      0       us         23              0.0368\n",
       "1      1   nation         12              0.0192\n",
       "2      2       We         12              0.0192\n",
       "3      3      new         11              0.0176\n",
       "4      4  America         10              0.0160\n",
       "5      5      The          9              0.0144\n",
       "6      6      Our          9              0.0144\n",
       "7      7    every          8              0.0128\n",
       "8      8     must          8              0.0128\n",
       "9      9      For          8              0.0128"
      ]
     },
     "execution_count": 34,
     "metadata": {},
     "output_type": "execute_result"
    }
   ],
   "source": [
    "df['relative_frequency'] = df['frequency']/df['frequency'].sum()\n",
    "df = df.reset_index(drop=False)\n",
    "df.head(10)"
   ]
  },
  {
   "cell_type": "code",
   "execution_count": 35,
   "metadata": {},
   "outputs": [
    {
     "data": {
      "text/plain": [
       "<matplotlib.axes._subplots.AxesSubplot at 0x1a1e71f588>"
      ]
     },
     "execution_count": 35,
     "metadata": {},
     "output_type": "execute_result"
    },
    {
     "data": {
      "image/png": "[encoded data removed]",
      "text/plain": [
       "<Figure size 1440x720 with 1 Axes>"
      ]
     },
     "metadata": {
      "needs_background": "light"
     },
     "output_type": "display_data"
    }
   ],
   "source": [
    "plt.figure(3,figsize=(20,10))\n",
    "df['relative_frequency'].plot()\n",
    "#plt.hist(df['word'], density=True)"
   ]
  },
  {
   "cell_type": "markdown",
   "metadata": {},
   "source": [
    "### The observed relative frequency of these words do follow Zipf’s law. As displayed below - The frequency of any word is inversely proportional to its rank in the frequency table"
   ]
  },
  {
   "cell_type": "code",
   "execution_count": 36,
   "metadata": {},
   "outputs": [
    {
     "data": {
      "image/png": "[encoded data removed]",
      "text/plain": [
       "<Figure size 1440x720 with 1 Axes>"
      ]
     },
     "metadata": {
      "needs_background": "light"
     },
     "output_type": "display_data"
    }
   ],
   "source": [
    "df['zip_probability'] = 0.1/(df['index'] + 1)\n",
    "\n",
    "plt.figure(3,figsize=(20,10))\n",
    "plt.plot(df['relative_frequency'], 'blue')\n",
    "plt.plot(df['zip_probability'], 'red')\n",
    "plt.show()"
   ]
  },
  {
   "cell_type": "markdown",
   "metadata": {},
   "source": [
    "In what ways do you think the frequency of the words in this corpus differ from “all words in all corpora.\n",
    "\n",
    "Obama's primary message during his inauguration was one of unity, togetherness and change. These themes are reflected throughout the most common words used. Considering the president's audience was the entire nation he did not seem to speak to any one group or sector, his words very general and easily understood. "
   ]
  }
 ],
 "metadata": {
  "kernelspec": {
   "display_name": "Python 3",
   "language": "python",
   "name": "python3"
  },
  "language_info": {
   "codemirror_mode": {
    "name": "ipython",
    "version": 3
   },
   "file_extension": ".py",
   "mimetype": "text/x-python",
   "name": "python",
   "nbconvert_exporter": "python",
   "pygments_lexer": "ipython3",
   "version": "3.7.3"
  }
 },
 "nbformat": 4,
 "nbformat_minor": 4
}
